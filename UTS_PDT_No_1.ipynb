{
  "nbformat": 4,
  "nbformat_minor": 0,
  "metadata": {
    "colab": {
      "provenance": []
    },
    "kernelspec": {
      "name": "python3",
      "display_name": "Python 3"
    },
    "language_info": {
      "name": "python"
    }
  },
  "cells": [
    {
      "cell_type": "code",
      "execution_count": null,
      "metadata": {
        "id": "CRb7IyhYTv6r"
      },
      "outputs": [],
      "source": [
        "import pandas as pd"
      ]
    },
    {
      "cell_type": "code",
      "source": [
        "df = pd.read_csv(\"https://raw.githubusercontent.com/nVITTOadrianto/pdt-uas-no-1/main/salaries_final.csv\")"
      ],
      "metadata": {
        "id": "XB_g-ZDXZJf9"
      },
      "execution_count": null,
      "outputs": []
    },
    {
      "cell_type": "code",
      "source": [
        "df.info()"
      ],
      "metadata": {
        "colab": {
          "base_uri": "https://localhost:8080/"
        },
        "id": "y1dm2zlXZXLr",
        "outputId": "a1f5ad6b-d656-4087-c7d9-bca470e6bfc4"
      },
      "execution_count": null,
      "outputs": [
        {
          "output_type": "stream",
          "name": "stdout",
          "text": [
            "<class 'pandas.core.frame.DataFrame'>\n",
            "RangeIndex: 14470 entries, 0 to 14469\n",
            "Data columns (total 6 columns):\n",
            " #   Column             Non-Null Count  Dtype  \n",
            "---  ------             --------------  -----  \n",
            " 0   Year               14470 non-null  int64  \n",
            " 1   Name               14470 non-null  object \n",
            " 2   Primary Job Title  14470 non-null  object \n",
            " 3   Base Pay           14470 non-null  float64\n",
            " 4   Department         14470 non-null  object \n",
            " 5   College            14470 non-null  object \n",
            "dtypes: float64(1), int64(1), object(4)\n",
            "memory usage: 678.4+ KB\n"
          ]
        }
      ]
    },
    {
      "cell_type": "code",
      "source": [
        "df[\"Base Pay\"].describe()"
      ],
      "metadata": {
        "colab": {
          "base_uri": "https://localhost:8080/"
        },
        "id": "x_UpYXweZZnv",
        "outputId": "8d2526d6-a383-424c-fc4d-c787c9e2ce6b"
      },
      "execution_count": null,
      "outputs": [
        {
          "output_type": "execute_result",
          "data": {
            "text/plain": [
              "count     14470.000000\n",
              "mean      70986.426381\n",
              "std       47287.464370\n",
              "min        1707.000000\n",
              "25%       35000.000000\n",
              "50%       63550.000000\n",
              "75%       90529.250000\n",
              "max      446429.000000\n",
              "Name: Base Pay, dtype: float64"
            ]
          },
          "metadata": {},
          "execution_count": 6
        }
      ]
    }
  ]
}